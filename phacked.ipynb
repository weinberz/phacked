{
 "cells": [
  {
   "cell_type": "code",
   "execution_count": 1,
   "id": "a5c3c95f",
   "metadata": {},
   "outputs": [],
   "source": [
    "import numpy as np\n",
    "\n",
    "import plotly.graph_objects as go\n",
    "from ipywidgets import widgets, Layout\n",
    "\n",
    "from scipy.stats import ttest_ind"
   ]
  },
  {
   "cell_type": "code",
   "execution_count": 5,
   "id": "96753fb7",
   "metadata": {},
   "outputs": [],
   "source": [
    "hist_plot = go.FigureWidget(data=[go.Histogram(), go.Histogram()])\n",
    "\n",
    "loc_slider = widgets.FloatSlider(value=1, min=0, max=16, description='distance')\n",
    "\n",
    "n_slider = widgets.IntSlider(value=1000, min=1, max=1e4, description='n_vals')\n",
    "\n",
    "def update(change):\n",
    "    dist = loc_slider.value/2\n",
    "    n = n_slider.value\n",
    "    a = np.random.normal(loc=dist, size=n)\n",
    "    b = np.random.normal(loc=-dist, size=n)\n",
    "    \n",
    "    with hist_plot.batch_update():\n",
    "        hist_plot.data[0].x = a\n",
    "        hist_plot.data[1].x = b\n",
    "        hist_plot.data[0].opacity = .5\n",
    "        hist_plot.data[1].opacity = .5\n",
    "        hist_plot.update_layout(bargap=0,barmode='overlay')\n",
    "\n",
    "        p = ttest_ind(a,b)[1]\n",
    "        signif = ''\n",
    "        title = f'p = {p:2e}'\n",
    "        hist_plot.layout = go.Layout(title=dict(text=title))\n",
    "\n",
    "loc_slider.observe(update)\n",
    "\n",
    "n_slider.observe(update)\n",
    "\n",
    "update(_)"
   ]
  },
  {
   "cell_type": "code",
   "execution_count": 9,
   "id": "2f5d7c2c",
   "metadata": {},
   "outputs": [
    {
     "data": {
      "application/vnd.jupyter.widget-view+json": {
       "model_id": "9139d17226a64c04b9d911de9ec2cd82",
       "version_major": 2,
       "version_minor": 0
      },
      "text/plain": [
       "VBox(children=(FigureWidget({\n",
       "    'data': [{'opacity': 0.5,\n",
       "              'type': 'histogram',\n",
       "              '…"
      ]
     },
     "metadata": {},
     "output_type": "display_data"
    }
   ],
   "source": [
    "widgets.VBox([hist_plot, loc_slider, n_slider])"
   ]
  }
 ],
 "metadata": {
  "kernelspec": {
   "display_name": "Python [conda env:flow]",
   "language": "python",
   "name": "conda-env-flow-py"
  },
  "language_info": {
   "codemirror_mode": {
    "name": "ipython",
    "version": 3
   },
   "file_extension": ".py",
   "mimetype": "text/x-python",
   "name": "python",
   "nbconvert_exporter": "python",
   "pygments_lexer": "ipython3",
   "version": "3.9.2"
  }
 },
 "nbformat": 4,
 "nbformat_minor": 5
}
